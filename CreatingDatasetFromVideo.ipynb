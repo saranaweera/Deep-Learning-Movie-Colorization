{
 "cells": [
  {
   "cell_type": "markdown",
   "metadata": {},
   "source": [
    "Import libraries"
   ]
  },
  {
   "cell_type": "code",
   "execution_count": 2,
   "metadata": {
    "collapsed": true
   },
   "outputs": [],
   "source": [
    "import cv2"
   ]
  },
  {
   "cell_type": "markdown",
   "metadata": {},
   "source": [
    "Take a look at the frame rate of the video"
   ]
  },
  {
   "cell_type": "code",
   "execution_count": 3,
   "metadata": {
    "collapsed": false
   },
   "outputs": [
    {
     "data": {
      "text/plain": [
       "29.970029830932617"
      ]
     },
     "execution_count": 3,
     "metadata": {},
     "output_type": "execute_result"
    }
   ],
   "source": [
    "vidcap = cv2.VideoCapture('The Lucy Show S03E18 Lucy and the Monsters.mp4')\n",
    "vidcap.get(cv2.CAP_PROP_FPS)"
   ]
  },
  {
   "cell_type": "markdown",
   "metadata": {},
   "source": [
    "Capture frames"
   ]
  },
  {
   "cell_type": "code",
   "execution_count": 7,
   "metadata": {
    "collapsed": false
   },
   "outputs": [],
   "source": [
    "vidcap = cv2.VideoCapture('The Lucy Show S01E02 Lucy Digs Up a Date.mp4')\n",
    "success,image = vidcap.read()\n",
    "#count = 2000\n",
    "frameRate = vidcap.get(cv2.CAP_PROP_FPS)\n",
    "count = (5*60)*frameRate\n",
    "success = True\n",
    "while success:\n",
    "    vidcap.set(cv2.CAP_PROP_POS_FRAMES, count)\n",
    "    success,image = vidcap.read()\n",
    "    if success:\n",
    "        cv2.imwrite(\"TheLucyShowBW/frame_S01E02_%010d.jpg\" % (count), image)     # save frame as JPEG file\n",
    "        \n",
    "    if count > (16*60+28)*frameRate:\n",
    "        break\n",
    "    count += 1"
   ]
  },
  {
   "cell_type": "code",
   "execution_count": null,
   "metadata": {
    "collapsed": true
   },
   "outputs": [],
   "source": [
    "# cmd = 'ffmpeg -y -i Audio.wav  -r 30 -i Video.h264  -filter:a aresample=async=1 -c:a flac -c:v copy av.mkv'\n",
    "# subprocess.call(cmd, shell=True)                                     # \"Muxing Done\n",
    "# print('Muxing Done')"
   ]
  }
 ],
 "metadata": {
  "kernelspec": {
   "display_name": "Python 3",
   "language": "python",
   "name": "python3"
  },
  "language_info": {
   "codemirror_mode": {
    "name": "ipython",
    "version": 3
   },
   "file_extension": ".py",
   "mimetype": "text/x-python",
   "name": "python",
   "nbconvert_exporter": "python",
   "pygments_lexer": "ipython3",
   "version": "3.6.0"
  }
 },
 "nbformat": 4,
 "nbformat_minor": 2
}
